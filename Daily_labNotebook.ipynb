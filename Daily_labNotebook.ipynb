{
 "cells": [
  {
   "cell_type": "markdown",
   "metadata": {},
   "source": [
    "June 24th\n",
    "- t2 injection plus headcap\n",
    "    Surgery note: "
   ]
  },
  {
   "cell_type": "markdown",
   "metadata": {},
   "source": [
    "June 25th\n",
    "- t1 injection, t3 injection plus head cap"
   ]
  },
  {
   "cell_type": "markdown",
   "metadata": {},
   "source": [
    "June 29th\n",
    "- t4 surgery (injection plus head cap)\n",
    "- handling of other mice"
   ]
  },
  {
   "cell_type": "markdown",
   "metadata": {},
   "source": [
    "June 30th\n",
    "- meeting with dan\n",
    "- training on habituation\n"
   ]
  },
  {
   "cell_type": "markdown",
   "metadata": {},
   "source": [
    "July 1st \n",
    "- handled mice without head restraint for 20 min each"
   ]
  },
  {
   "cell_type": "markdown",
   "metadata": {},
   "source": [
    "July 2nd\n",
    "- handled mice without head restraint for 20 min each\n"
   ]
  },
  {
   "cell_type": "markdown",
   "metadata": {},
   "source": [
    "July 4th \n",
    "- habituated t1,3,4 for 15 min each, no visual stimuli"
   ]
  },
  {
   "cell_type": "markdown",
   "metadata": {},
   "source": [
    "July 5th:\n",
    "- habituated t1,3,4 for 30 min each, no visual stimuli"
   ]
  },
  {
   "cell_type": "markdown",
   "metadata": {},
   "source": [
    "July 6th:\n",
    "- habituated t1,3,4 for 45 min each displaying visual stimuli\n"
   ]
  },
  {
   "cell_type": "markdown",
   "metadata": {},
   "source": [
    "July 7th:\n",
    "- meeting with Dan\n",
    "- habituated t1,3,4 for 1 hour each displaying visual stimuli\n"
   ]
  },
  {
   "cell_type": "markdown",
   "metadata": {},
   "source": [
    "July 8th:\n",
    "- assisted Juan in craniotomy and recording\n",
    "    - unable to drop probes fully in brain, try again tomorrow\n",
    "- habituated t1,3,4 for 1 hour each displaying visual stimuli\n",
    "-Messed with git on my mac \n",
    "    helpful links\n",
    "    - https://www.youtube.com/watch?v=0Icla6TVNNo\n",
    "    - https://www.macworld.co.uk/how-to/mac-software/how-use-git-github-on-your-mac-3639136/\n",
    "    - http://rogerdudler.github.io/git-guide/files/git_cheat_sheet.pdf\n",
    "    - http://rogerdudler.github.io/git-guide/\n",
    "    \n",
    "    \n"
   ]
  }
 ],
 "metadata": {
  "kernelspec": {
   "display_name": "Python 3",
   "language": "python",
   "name": "python3"
  },
  "language_info": {
   "codemirror_mode": {
    "name": "ipython",
    "version": 3
   },
   "file_extension": ".py",
   "mimetype": "text/x-python",
   "name": "python",
   "nbconvert_exporter": "python",
   "pygments_lexer": "ipython3",
   "version": "3.7.6"
  }
 },
 "nbformat": 4,
 "nbformat_minor": 4
}
