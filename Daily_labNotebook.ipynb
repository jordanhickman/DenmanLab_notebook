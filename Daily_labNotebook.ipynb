{
 "cells": [
  {
   "cell_type": "markdown",
   "metadata": {},
   "source": [
    "# **Links I Frequent:**\n",
    "- Lab checkin: https://covidcheckpoint.cuanschutz.edu/\n",
    "- Denman lab OSF: https://osf.io/szch3/wiki/home/\n",
    "- Phy Github: https://github.com/cortex-lab/phy\n",
    "- Systems coding class: https://github.com/danieljdenman/nrsc7610\n",
    "- Mouse Google Drive: https://drive.google.com/drive/folders/1vLKHe-WvH_M5uJPnVGHmC7n9gnFtB08V\n",
    "- git gud    \n",
    "    - http://rogerdudler.github.io/git-guide/files/git_cheat_sheet.pdf\n",
    "    - http://rogerdudler.github.io/git-guide/\n",
    "\n",
    "    "
   ]
  },
  {
   "cell_type": "markdown",
   "metadata": {},
   "source": [
    "# **Literature to Read/Reading**\n",
    "\n",
    "Read: \n",
    "    \n",
    "To read: \n",
    "\n",
    "Youtube videos:\n",
    "- Hubel And Weisel Demo: https://www.youtube.com/watch?v=8VdFf3egwfg\n",
    "- Allen Institute Series: https://www.youtube.com/user/AllenInstitute/videos?view=0&sort=p&flow=grid\n"
   ]
  },
  {
   "cell_type": "markdown",
   "metadata": {},
   "source": [
    "# **Daily Logs**\n"
   ]
  },
  {
   "cell_type": "markdown",
   "metadata": {},
   "source": [
    "**June 23rd** 20200623\n",
    "\n",
    "    - meeting with dan \n",
    "        - set up Git\n",
    "        - follow up with Beth for surgery availability\n",
    "        \n",
    "    "
   ]
  },
  {
   "cell_type": "markdown",
   "metadata": {},
   "source": [
    "**June 24th** 20200625\n",
    "- t2 injection plus headcap\n",
    "    Surgery note: https://docs.google.com/document/d/1lEtxgqPMNecZomRVqsYkXjKXWnSk1jJEc22fEXdLYJA/edit"
   ]
  },
  {
   "cell_type": "markdown",
   "metadata": {},
   "source": [
    "**June 25th** 20200625\n",
    "- t1 injection: https://docs.google.com/document/d/1jtERRxvbZgRljE4xonEReUTVSnZdISpKI1HtIdgnxoU/edit\n",
    "- t3 injection plus head cap: https://docs.google.com/document/d/1ym51hXHZqGYdON1_V0y3ncXbBQEhul6KIfSPn4-KSpI/edit"
   ]
  },
  {
   "cell_type": "markdown",
   "metadata": {},
   "source": [
    "**June 29th** 20200629\n",
    "- t4 surgery (injection plus head cap): https://docs.google.com/document/d/1KVsVMJhhsC42wY2u3PYtAW_bBflaZkwstnsNXnOsnQw/edit\n",
    "- handling of other mice"
   ]
  },
  {
   "cell_type": "markdown",
   "metadata": {},
   "source": [
    "**June 30th** 20200630\n",
    "- meeting with dan\n",
    "- training on habituation\n"
   ]
  },
  {
   "cell_type": "markdown",
   "metadata": {},
   "source": [
    "**July 1st** 20200701\n",
    "- handled mice without head restraint for 20 min each"
   ]
  },
  {
   "cell_type": "markdown",
   "metadata": {},
   "source": [
    "**July 2nd** 20200702\n",
    "- handled mice without head restraint for 20 min each\n"
   ]
  },
  {
   "cell_type": "markdown",
   "metadata": {},
   "source": [
    "**July 4th** 20200704\n",
    "- habituated t1,3,4 for 15 min each, no visual stimuli\n",
    "t2 head cap fell off, mouse sac'd\n",
    "    - Lessons learned:\n",
    "        - score the damn skull\n",
    "        - use mineral oil on injection\n",
    "       "
   ]
  },
  {
   "cell_type": "markdown",
   "metadata": {},
   "source": [
    "**July 5th** 20200705\n",
    "- habituated t1,3,4 for 30 min each, no visual stimuli\n",
    "- been watching the allen institute videos"
   ]
  },
  {
   "cell_type": "markdown",
   "metadata": {},
   "source": [
    "**July 6th:** 20200706\n",
    "- habituated t1,3,4 for 45 min each displaying visual stimuli\n",
    "    - Habituation instructions:\n",
    "        HABITUATION:\n",
    "            1.  put animal on head bar. \n",
    "            2. move stage with caution of tail\n",
    "            3. drop the ball without dropping the \"ball\"\n",
    "            4. run program on the top left. PLP CELL CONDUCTOR  “MAX”\n",
    "            5. press play\n",
    "            6. stimuli\n",
    "            7. command line, press up\n",
    "            8. reverse \n",
    "\n"
   ]
  },
  {
   "cell_type": "markdown",
   "metadata": {},
   "source": [
    "**July 7th** 20200707\n",
    "- meeting with Dan (see file) \n",
    "- habituated t1,3,4 for 1 hour each displaying various visual stimuli\n"
   ]
  },
  {
   "cell_type": "markdown",
   "metadata": {},
   "source": [
    "**July 8th** 20200708\n",
    "- assisted Juan in craniotomy and recording\n",
    "    - unable to drop probes fully in brain, try again tomorrow\n",
    "    - mouse headcap fell off after Juan left. Replaced headcap. \n",
    "        - PBS -> mineral oil -> weighboat -> kwik-cast\n",
    "- habituated t1,3,4 for 1 hour each displaying visual stimuli\n",
    "-Messed with git on my mac \n",
    "    helpful links\n",
    "    - https://www.youtube.com/watch?v=0Icla6TVNNo\n",
    "    - https://www.macworld.co.uk/how-to/mac-software/how-use-git-github-on-your-mac-3639136/\n",
    "    - http://rogerdudler.github.io/git-guide/files/git_cheat_sheet.pdf\n",
    "    - http://rogerdudler.github.io/git-guide/\n",
    "    \n",
    "   \n",
    "Git flow:\n",
    "*UPDATING*\n",
    " - git init\n",
    " - git status\n",
    " - git add 'filename'\n",
    " - git committ -m \"note\"\n",
    " \n",
    " \n",
    "    \n"
   ]
  },
  {
   "cell_type": "markdown",
   "metadata": {},
   "source": [
    "**July 9th** 20200709\n",
    " \n",
    "- updated notebook with links. ongoing will add more literature/helpful links\n",
    "- habituated t1,3,4. 45min - 1 hour with visual stimulus. 45min-1hour just headfixed\n",
    "\n"
   ]
  }
 ],
 "metadata": {
  "kernelspec": {
   "display_name": "Python 3",
   "language": "python",
   "name": "python3"
  },
  "language_info": {
   "codemirror_mode": {
    "name": "ipython",
    "version": 3
   },
   "file_extension": ".py",
   "mimetype": "text/x-python",
   "name": "python",
   "nbconvert_exporter": "python",
   "pygments_lexer": "ipython3",
   "version": "3.7.6"
  }
 },
 "nbformat": 4,
 "nbformat_minor": 4
}
